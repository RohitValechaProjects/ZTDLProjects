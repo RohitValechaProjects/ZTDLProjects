{
 "cells": [
  {
   "cell_type": "markdown",
   "metadata": {},
   "source": [
    "# Eager Execution in Tensorflow 2.0"
   ]
  },
  {
   "cell_type": "code",
   "execution_count": 1,
   "metadata": {},
   "outputs": [],
   "source": [
    "import pandas as pd\n",
    "import numpy as np\n",
    "%matplotlib inline\n",
    "import matplotlib.pyplot as plt\n",
    "import tensorflow as tf"
   ]
  },
  {
   "cell_type": "markdown",
   "metadata": {},
   "source": [
    "## Tensor Operations"
   ]
  },
  {
   "cell_type": "code",
   "execution_count": 2,
   "metadata": {},
   "outputs": [
    {
     "data": {
      "text/plain": [
       "<tf.Tensor: shape=(), dtype=int32, numpy=3>"
      ]
     },
     "execution_count": 2,
     "metadata": {},
     "output_type": "execute_result"
    }
   ],
   "source": [
    "tf.add(1, 2)"
   ]
  },
  {
   "cell_type": "code",
   "execution_count": 3,
   "metadata": {},
   "outputs": [
    {
     "data": {
      "text/plain": [
       "<tf.Tensor: shape=(2,), dtype=int32, numpy=array([4, 6], dtype=int32)>"
      ]
     },
     "execution_count": 3,
     "metadata": {},
     "output_type": "execute_result"
    }
   ],
   "source": [
    "tf.add([1, 2], [3, 4])"
   ]
  },
  {
   "cell_type": "code",
   "execution_count": 4,
   "metadata": {},
   "outputs": [
    {
     "data": {
      "text/plain": [
       "<tf.Tensor: shape=(), dtype=int32, numpy=25>"
      ]
     },
     "execution_count": 4,
     "metadata": {},
     "output_type": "execute_result"
    }
   ],
   "source": [
    "tf.square(5)"
   ]
  },
  {
   "cell_type": "code",
   "execution_count": 5,
   "metadata": {},
   "outputs": [
    {
     "data": {
      "text/plain": [
       "<tf.Tensor: shape=(), dtype=int32, numpy=6>"
      ]
     },
     "execution_count": 5,
     "metadata": {},
     "output_type": "execute_result"
    }
   ],
   "source": [
    "tf.reduce_sum([1, 2, 3])"
   ]
  },
  {
   "cell_type": "code",
   "execution_count": 6,
   "metadata": {},
   "outputs": [
    {
     "data": {
      "text/plain": [
       "<tf.Tensor: shape=(), dtype=int32, numpy=13>"
      ]
     },
     "execution_count": 6,
     "metadata": {},
     "output_type": "execute_result"
    }
   ],
   "source": [
    "tf.square(2) + tf.square(3)"
   ]
  },
  {
   "cell_type": "code",
   "execution_count": 7,
   "metadata": {},
   "outputs": [],
   "source": [
    "x = tf.matmul([[1]], [[2, 3]])"
   ]
  },
  {
   "cell_type": "code",
   "execution_count": 8,
   "metadata": {},
   "outputs": [
    {
     "data": {
      "text/plain": [
       "TensorShape([1, 2])"
      ]
     },
     "execution_count": 8,
     "metadata": {},
     "output_type": "execute_result"
    }
   ],
   "source": [
    "x.shape"
   ]
  },
  {
   "cell_type": "code",
   "execution_count": 9,
   "metadata": {},
   "outputs": [
    {
     "data": {
      "text/plain": [
       "tf.int32"
      ]
     },
     "execution_count": 9,
     "metadata": {},
     "output_type": "execute_result"
    }
   ],
   "source": [
    "x.dtype"
   ]
  },
  {
   "cell_type": "code",
   "execution_count": 10,
   "metadata": {},
   "outputs": [
    {
     "data": {
      "text/plain": [
       "array([[2, 3]], dtype=int32)"
      ]
     },
     "execution_count": 10,
     "metadata": {},
     "output_type": "execute_result"
    }
   ],
   "source": [
    "x.numpy()"
   ]
  },
  {
   "cell_type": "markdown",
   "metadata": {},
   "source": [
    "## Custom Layers"
   ]
  },
  {
   "cell_type": "code",
   "execution_count": 11,
   "metadata": {},
   "outputs": [],
   "source": [
    "class MyDenseLayer(tf.keras.layers.Layer):\n",
    "    def __init__(self, num_outputs):\n",
    "        super(MyDenseLayer, self).__init__()\n",
    "        self.num_outputs = num_outputs\n",
    "    \n",
    "    def build(self, input_shape):\n",
    "        self.kernel = self.add_weight(\"kernel\", \n",
    "                                      shape=[int(input_shape[-1]), \n",
    "                                             self.num_outputs],\n",
    "                                      initializer='normal')\n",
    "    \n",
    "        self.bias = self.add_weight(\"bias\", \n",
    "                                    shape=[self.num_outputs,],\n",
    "                                    initializer='normal')\n",
    "\n",
    "    def call(self, inputs):\n",
    "        return tf.matmul(inputs, self.kernel) + self.bias"
   ]
  },
  {
   "cell_type": "code",
   "execution_count": 12,
   "metadata": {},
   "outputs": [],
   "source": [
    "from tensorflow.keras.models import Sequential\n",
    "from tensorflow.keras.layers import Activation"
   ]
  },
  {
   "cell_type": "code",
   "execution_count": 13,
   "metadata": {},
   "outputs": [],
   "source": [
    "model = Sequential([\n",
    "    MyDenseLayer(20),\n",
    "    Activation('relu'),\n",
    "    MyDenseLayer(3),\n",
    "])"
   ]
  },
  {
   "cell_type": "code",
   "execution_count": 14,
   "metadata": {},
   "outputs": [],
   "source": [
    "model.build(input_shape=(None, 4))"
   ]
  },
  {
   "cell_type": "code",
   "execution_count": 15,
   "metadata": {},
   "outputs": [
    {
     "name": "stdout",
     "output_type": "stream",
     "text": [
      "Model: \"sequential\"\n",
      "_________________________________________________________________\n",
      "Layer (type)                 Output Shape              Param #   \n",
      "=================================================================\n",
      "my_dense_layer (MyDenseLayer multiple                  100       \n",
      "_________________________________________________________________\n",
      "activation (Activation)      multiple                  0         \n",
      "_________________________________________________________________\n",
      "my_dense_layer_1 (MyDenseLay multiple                  63        \n",
      "=================================================================\n",
      "Total params: 163\n",
      "Trainable params: 163\n",
      "Non-trainable params: 0\n",
      "_________________________________________________________________\n"
     ]
    }
   ],
   "source": [
    "model.summary()"
   ]
  },
  {
   "cell_type": "code",
   "execution_count": 16,
   "metadata": {},
   "outputs": [],
   "source": [
    "X = tf.random.normal([7, 4])"
   ]
  },
  {
   "cell_type": "code",
   "execution_count": 17,
   "metadata": {},
   "outputs": [
    {
     "data": {
      "text/plain": [
       "<tf.Tensor: shape=(7, 4), dtype=float32, numpy=\n",
       "array([[ 1.4755569 ,  0.8581777 ,  0.9022813 , -1.2902218 ],\n",
       "       [-0.17976514, -0.22564135, -0.03036232, -0.20002328],\n",
       "       [ 0.38670635,  0.77733386,  0.5311429 ,  0.99650276],\n",
       "       [ 0.2025152 , -0.21345237, -3.4515634 , -0.527624  ],\n",
       "       [ 1.5440575 , -0.58645546, -0.05673727, -1.1408058 ],\n",
       "       [ 1.7882582 ,  0.24992827,  0.14442182,  0.84280175],\n",
       "       [-0.7982104 , -1.5754186 , -0.46758175,  0.71215886]],\n",
       "      dtype=float32)>"
      ]
     },
     "execution_count": 17,
     "metadata": {},
     "output_type": "execute_result"
    }
   ],
   "source": [
    "X"
   ]
  },
  {
   "cell_type": "markdown",
   "metadata": {},
   "source": [
    "### Model works like a function:"
   ]
  },
  {
   "cell_type": "code",
   "execution_count": 18,
   "metadata": {},
   "outputs": [
    {
     "data": {
      "text/plain": [
       "<tf.Tensor: shape=(7, 3), dtype=float32, numpy=\n",
       "array([[ 0.02196088, -0.01613528,  0.09573311],\n",
       "       [-0.00142481, -0.00861402,  0.08110239],\n",
       "       [ 0.00472419, -0.0253799 ,  0.09441759],\n",
       "       [ 0.0426681 , -0.01509169,  0.03267537],\n",
       "       [ 0.01572378, -0.0117061 ,  0.07914659],\n",
       "       [ 0.03569429, -0.02367161,  0.08860902],\n",
       "       [ 0.00913916, -0.0258826 ,  0.0579475 ]], dtype=float32)>"
      ]
     },
     "execution_count": 18,
     "metadata": {},
     "output_type": "execute_result"
    }
   ],
   "source": [
    "model(X)"
   ]
  },
  {
   "cell_type": "code",
   "execution_count": 19,
   "metadata": {},
   "outputs": [
    {
     "data": {
      "text/html": [
       "<div>\n",
       "<style scoped>\n",
       "    .dataframe tbody tr th:only-of-type {\n",
       "        vertical-align: middle;\n",
       "    }\n",
       "\n",
       "    .dataframe tbody tr th {\n",
       "        vertical-align: top;\n",
       "    }\n",
       "\n",
       "    .dataframe thead th {\n",
       "        text-align: right;\n",
       "    }\n",
       "</style>\n",
       "<table border=\"1\" class=\"dataframe\">\n",
       "  <thead>\n",
       "    <tr style=\"text-align: right;\">\n",
       "      <th></th>\n",
       "      <th>sepal_length</th>\n",
       "      <th>sepal_width</th>\n",
       "      <th>petal_length</th>\n",
       "      <th>petal_width</th>\n",
       "      <th>species</th>\n",
       "    </tr>\n",
       "  </thead>\n",
       "  <tbody>\n",
       "    <tr>\n",
       "      <th>0</th>\n",
       "      <td>5.1</td>\n",
       "      <td>3.5</td>\n",
       "      <td>1.4</td>\n",
       "      <td>0.2</td>\n",
       "      <td>setosa</td>\n",
       "    </tr>\n",
       "    <tr>\n",
       "      <th>1</th>\n",
       "      <td>4.9</td>\n",
       "      <td>3.0</td>\n",
       "      <td>1.4</td>\n",
       "      <td>0.2</td>\n",
       "      <td>setosa</td>\n",
       "    </tr>\n",
       "    <tr>\n",
       "      <th>2</th>\n",
       "      <td>4.7</td>\n",
       "      <td>3.2</td>\n",
       "      <td>1.3</td>\n",
       "      <td>0.2</td>\n",
       "      <td>setosa</td>\n",
       "    </tr>\n",
       "    <tr>\n",
       "      <th>3</th>\n",
       "      <td>4.6</td>\n",
       "      <td>3.1</td>\n",
       "      <td>1.5</td>\n",
       "      <td>0.2</td>\n",
       "      <td>setosa</td>\n",
       "    </tr>\n",
       "    <tr>\n",
       "      <th>4</th>\n",
       "      <td>5.0</td>\n",
       "      <td>3.6</td>\n",
       "      <td>1.4</td>\n",
       "      <td>0.2</td>\n",
       "      <td>setosa</td>\n",
       "    </tr>\n",
       "  </tbody>\n",
       "</table>\n",
       "</div>"
      ],
      "text/plain": [
       "   sepal_length  sepal_width  petal_length  petal_width species\n",
       "0           5.1          3.5           1.4          0.2  setosa\n",
       "1           4.9          3.0           1.4          0.2  setosa\n",
       "2           4.7          3.2           1.3          0.2  setosa\n",
       "3           4.6          3.1           1.5          0.2  setosa\n",
       "4           5.0          3.6           1.4          0.2  setosa"
      ]
     },
     "execution_count": 19,
     "metadata": {},
     "output_type": "execute_result"
    }
   ],
   "source": [
    "df = pd.read_csv('../data/iris.csv')\n",
    "df.head()"
   ]
  },
  {
   "cell_type": "code",
   "execution_count": 20,
   "metadata": {},
   "outputs": [],
   "source": [
    "X = df[['sepal_length', 'sepal_width', 'petal_length', 'petal_width']].values.astype('float32')\n",
    "y = df['species'].map({\"setosa\": 0, \"versicolor\": 1, \"virginica\": 2}).values.astype('int32')"
   ]
  },
  {
   "cell_type": "markdown",
   "metadata": {},
   "source": [
    "### Datasets"
   ]
  },
  {
   "cell_type": "code",
   "execution_count": 21,
   "metadata": {},
   "outputs": [],
   "source": [
    "dataset = tf.data.Dataset.from_tensor_slices((X, y))\n",
    "dataset = dataset.shuffle(1000).repeat().batch(16)"
   ]
  },
  {
   "cell_type": "markdown",
   "metadata": {},
   "source": [
    "## One batch:"
   ]
  },
  {
   "cell_type": "code",
   "execution_count": 22,
   "metadata": {},
   "outputs": [
    {
     "name": "stdout",
     "output_type": "stream",
     "text": [
      "tf.Tensor(\n",
      "[[5.  2.3 3.3 1. ]\n",
      " [5.4 3.4 1.5 0.4]\n",
      " [6.6 3.  4.4 1.4]\n",
      " [6.3 2.3 4.4 1.3]\n",
      " [5.  3.4 1.6 0.4]\n",
      " [4.8 3.  1.4 0.1]\n",
      " [5.5 2.3 4.  1.3]\n",
      " [7.2 3.  5.8 1.6]\n",
      " [6.4 2.8 5.6 2.1]\n",
      " [6.4 3.2 4.5 1.5]\n",
      " [5.8 2.7 5.1 1.9]\n",
      " [6.5 3.  5.8 2.2]\n",
      " [6.9 3.1 5.4 2.1]\n",
      " [5.4 3.4 1.7 0.2]\n",
      " [5.1 3.3 1.7 0.5]\n",
      " [5.9 3.2 4.8 1.8]], shape=(16, 4), dtype=float32)\n",
      "tf.Tensor([1 0 1 1 0 0 1 2 2 1 2 2 2 0 0 1], shape=(16,), dtype=int32)\n",
      "Logits:  tf.Tensor(\n",
      "[[ 0.10511804 -0.03798645  0.09691212]\n",
      " [ 0.11055826 -0.03646594  0.11068645]\n",
      " [ 0.13951796 -0.0468803   0.09726395]\n",
      " [ 0.13326713 -0.04484738  0.09255449]\n",
      " [ 0.10161591 -0.03555451  0.11100347]\n",
      " [ 0.0945442  -0.03372842  0.10981344]\n",
      " [ 0.11709996 -0.04124082  0.09389034]\n",
      " [ 0.1506049  -0.05263031  0.0938684 ]\n",
      " [ 0.13951167 -0.04870183  0.09060608]\n",
      " [ 0.13558844 -0.04681469  0.09840717]\n",
      " [ 0.1260336  -0.04545037  0.09215057]\n",
      " [ 0.14178795 -0.04984004  0.09130684]\n",
      " [ 0.1503487  -0.05014912  0.09269259]\n",
      " [ 0.10787534 -0.03728551  0.11155952]\n",
      " [ 0.10473407 -0.03586448  0.10942615]\n",
      " [ 0.12707517 -0.04585813  0.09693824]], shape=(16, 3), dtype=float32)\n"
     ]
    }
   ],
   "source": [
    "dataset.take(1)\n",
    "for data, labels in dataset.take(1):\n",
    "    print(data)\n",
    "    print(labels)\n",
    "    print(\"Logits: \", model(data))"
   ]
  },
  {
   "cell_type": "markdown",
   "metadata": {},
   "source": [
    "## Optimizer and Loss"
   ]
  },
  {
   "cell_type": "code",
   "execution_count": 23,
   "metadata": {},
   "outputs": [],
   "source": [
    "from tensorflow.keras.optimizers import Adam\n",
    "from tensorflow.keras.losses import SparseCategoricalCrossentropy"
   ]
  },
  {
   "cell_type": "code",
   "execution_count": 24,
   "metadata": {},
   "outputs": [],
   "source": [
    "optimizer = Adam()\n",
    "loss = SparseCategoricalCrossentropy(from_logits=True)"
   ]
  },
  {
   "cell_type": "code",
   "execution_count": 25,
   "metadata": {
    "scrolled": true
   },
   "outputs": [
    {
     "data": {
      "text/plain": [
       "<tf.Tensor: shape=(16, 3), dtype=float32, numpy=\n",
       "array([[ 0.10511804, -0.03798645,  0.09691212],\n",
       "       [ 0.11055826, -0.03646594,  0.11068645],\n",
       "       [ 0.13951796, -0.0468803 ,  0.09726395],\n",
       "       [ 0.13326713, -0.04484738,  0.09255449],\n",
       "       [ 0.10161591, -0.03555451,  0.11100347],\n",
       "       [ 0.0945442 , -0.03372842,  0.10981344],\n",
       "       [ 0.11709996, -0.04124082,  0.09389034],\n",
       "       [ 0.1506049 , -0.05263031,  0.0938684 ],\n",
       "       [ 0.13951167, -0.04870183,  0.09060608],\n",
       "       [ 0.13558844, -0.04681469,  0.09840717],\n",
       "       [ 0.1260336 , -0.04545037,  0.09215057],\n",
       "       [ 0.14178795, -0.04984004,  0.09130684],\n",
       "       [ 0.1503487 , -0.05014912,  0.09269259],\n",
       "       [ 0.10787534, -0.03728551,  0.11155952],\n",
       "       [ 0.10473407, -0.03586448,  0.10942615],\n",
       "       [ 0.12707517, -0.04585813,  0.09693824]], dtype=float32)>"
      ]
     },
     "execution_count": 25,
     "metadata": {},
     "output_type": "execute_result"
    }
   ],
   "source": [
    "logits = model(data)\n",
    "logits"
   ]
  },
  {
   "cell_type": "code",
   "execution_count": 26,
   "metadata": {},
   "outputs": [
    {
     "data": {
      "text/plain": [
       "1.1166824"
      ]
     },
     "execution_count": 26,
     "metadata": {},
     "output_type": "execute_result"
    }
   ],
   "source": [
    "loss(labels, logits).numpy()"
   ]
  },
  {
   "cell_type": "markdown",
   "metadata": {},
   "source": [
    "## Gradients"
   ]
  },
  {
   "cell_type": "code",
   "execution_count": 27,
   "metadata": {
    "scrolled": false
   },
   "outputs": [
    {
     "data": {
      "text/plain": [
       "[<tf.Tensor: shape=(4, 20), dtype=float32, numpy=\n",
       " array([[ 0.        ,  0.02645542,  0.        ,  0.01696693,  0.0365556 ,\n",
       "         -0.10310022,  0.        ,  0.04324415,  0.        ,  0.03262446,\n",
       "         -0.00923942,  0.        , -0.00959512,  0.03474272,  0.        ,\n",
       "          0.        ,  0.        ,  0.        ,  0.04403365,  0.0665247 ],\n",
       "        [ 0.        , -0.00366462,  0.        , -0.00850451, -0.00180222,\n",
       "         -0.01967513,  0.        ,  0.0213288 ,  0.        ,  0.00732415,\n",
       "          0.00426789,  0.        , -0.00974136,  0.00037826,  0.        ,\n",
       "          0.        ,  0.        ,  0.        ,  0.00871117,  0.00596284],\n",
       "        [ 0.        ,  0.07208437,  0.        ,  0.06183556,  0.07633189,\n",
       "         -0.14652711,  0.        ,  0.009505  ,  0.        ,  0.03736167,\n",
       "         -0.03242178,  0.        ,  0.01514039,  0.06534515,  0.        ,\n",
       "          0.        ,  0.        ,  0.        ,  0.05447158,  0.10708129],\n",
       "        [ 0.        ,  0.03045571,  0.        ,  0.02667774,  0.03093468,\n",
       "         -0.05556832,  0.        , -0.00109808,  0.        ,  0.01325666,\n",
       "         -0.01394382,  0.        ,  0.00829108,  0.02604092,  0.        ,\n",
       "          0.        ,  0.        ,  0.        ,  0.01977938,  0.04144621]],\n",
       "       dtype=float32)>, <tf.Tensor: shape=(20,), dtype=float32, numpy=\n",
       " array([ 0.        , -0.00011433,  0.        , -0.0013404 ,  0.00218735,\n",
       "        -0.01193357,  0.        ,  0.00979477,  0.        ,  0.00469623,\n",
       "         0.00061832,  0.        , -0.00371203,  0.00272127,  0.        ,\n",
       "         0.        ,  0.        ,  0.        ,  0.00597781,  0.00681992],\n",
       "       dtype=float32)>, <tf.Tensor: shape=(20, 3), dtype=float32, numpy=\n",
       " array([[ 0.        ,  0.        ,  0.        ],\n",
       "        [ 0.06096203, -0.02682305, -0.03413898],\n",
       "        [ 0.        ,  0.        ,  0.        ],\n",
       "        [-0.01977362, -0.00104041,  0.02081402],\n",
       "        [ 0.11808436, -0.07277997, -0.04530438],\n",
       "        [ 0.01679559, -0.0036056 , -0.01319   ],\n",
       "        [ 0.        ,  0.        ,  0.        ],\n",
       "        [ 0.03070726, -0.02961967, -0.0010876 ],\n",
       "        [ 0.        ,  0.        ,  0.        ],\n",
       "        [ 0.01803394, -0.01227697, -0.00575697],\n",
       "        [ 0.03763716, -0.04002414,  0.00238699],\n",
       "        [ 0.        ,  0.        ,  0.        ],\n",
       "        [ 0.01448044, -0.01418605, -0.00029439],\n",
       "        [-0.01730639, -0.00288511,  0.02019149],\n",
       "        [ 0.        ,  0.        ,  0.        ],\n",
       "        [ 0.        ,  0.        ,  0.        ],\n",
       "        [ 0.        ,  0.        ,  0.        ],\n",
       "        [ 0.        ,  0.        ,  0.        ],\n",
       "        [ 0.03931712, -0.02126991, -0.0180472 ],\n",
       "        [ 0.02797478, -0.03112854,  0.00315375]], dtype=float32)>, <tf.Tensor: shape=(3,), dtype=float32, numpy=array([ 0.04192685, -0.07515789,  0.03323104], dtype=float32)>]"
      ]
     },
     "execution_count": 27,
     "metadata": {},
     "output_type": "execute_result"
    }
   ],
   "source": [
    "def grad(model, inputs, targets):\n",
    "    with tf.GradientTape() as tape:\n",
    "        logits = model(inputs, training=True)\n",
    "        loss_value = loss(targets, logits)\n",
    "    return tape.gradient(loss_value, model.variables)\n",
    "\n",
    "grad(model, data, labels)"
   ]
  },
  {
   "cell_type": "code",
   "execution_count": 28,
   "metadata": {},
   "outputs": [],
   "source": [
    "gw1, gb1, gw2, gb2  = grad(model, data, labels)"
   ]
  },
  {
   "cell_type": "code",
   "execution_count": 29,
   "metadata": {},
   "outputs": [
    {
     "data": {
      "image/png": "[encoded data removed]",
      "text/plain": [
       "<Figure size 432x288 with 1 Axes>"
      ]
     },
     "metadata": {
      "needs_background": "light"
     },
     "output_type": "display_data"
    }
   ],
   "source": [
    "plt.imshow(gw1);"
   ]
  },
  {
   "cell_type": "code",
   "execution_count": 30,
   "metadata": {},
   "outputs": [
    {
     "data": {
      "image/png": "[encoded data removed]",
      "text/plain": [
       "<Figure size 432x288 with 1 Axes>"
      ]
     },
     "metadata": {
      "needs_background": "light"
     },
     "output_type": "display_data"
    }
   ],
   "source": [
    "plt.imshow(gw2);"
   ]
  },
  {
   "cell_type": "markdown",
   "metadata": {},
   "source": [
    "## Training Loop"
   ]
  },
  {
   "cell_type": "code",
   "execution_count": 31,
   "metadata": {},
   "outputs": [
    {
     "name": "stdout",
     "output_type": "stream",
     "text": [
      "0 1.09389 0.0\n",
      "20 1.0810051 0.29464287\n",
      "40 1.0239626 0.30335367\n",
      "60 1.0205867 0.3637295\n",
      "80 0.9994831 0.43441358\n",
      "100 0.9042232 0.48329207\n",
      "120 0.8278267 0.5139463\n",
      "140 0.8101361 0.5359042\n",
      "160 0.7324396 0.55240685\n",
      "180 0.67716175 0.5642265\n",
      "200 0.644692 0.5743159\n",
      "220 0.5130469 0.584276\n",
      "240 0.59450734 0.59154564\n",
      "260 0.575645 0.60057473\n",
      "280 0.5330106 0.6107651\n",
      "300 0.44914562 0.6241694\n",
      "320 0.46521777 0.63862926\n",
      "340 0.47693375 0.65469205\n",
      "360 0.33456153 0.66949445\n",
      "380 0.43007395 0.68389106\n"
     ]
    }
   ],
   "source": [
    "loss_history = []\n",
    "accuracy_history = []\n",
    "acc = tf.keras.metrics.SparseCategoricalAccuracy()\n",
    "\n",
    "for (i, (data, labels)) in enumerate(dataset.take(400)):\n",
    "    with tf.GradientTape() as tape:\n",
    "        logits = model(data, training=True)\n",
    "        loss_value = loss(labels, logits)\n",
    "\n",
    "    loss_history.append(loss_value.numpy())\n",
    "    \n",
    "    grads = tape.gradient(loss_value, model.trainable_variables)\n",
    "    \n",
    "    optimizer.apply_gradients(zip(grads, model.trainable_variables))\n",
    "        \n",
    "    acc.update_state(labels, logits)\n",
    "    accuracy = acc.result().numpy()\n",
    "    accuracy_history.append(accuracy)\n",
    "    \n",
    "    if i % 20 == 0:\n",
    "        print(i, loss_value.numpy(), accuracy)"
   ]
  },
  {
   "cell_type": "code",
   "execution_count": 32,
   "metadata": {},
   "outputs": [
    {
     "data": {
      "text/plain": [
       "[<matplotlib.lines.Line2D at 0x7f69400a6e90>]"
      ]
     },
     "execution_count": 32,
     "metadata": {},
     "output_type": "execute_result"
    },
    {
     "data": {
      "image/png": "[encoded data removed]",
      "text/plain": [
       "<Figure size 432x288 with 1 Axes>"
      ]
     },
     "metadata": {
      "needs_background": "light"
     },
     "output_type": "display_data"
    }
   ],
   "source": [
    "plt.plot(loss_history)\n",
    "plt.plot(accuracy_history)"
   ]
  },
  {
   "cell_type": "code",
   "execution_count": null,
   "metadata": {},
   "outputs": [],
   "source": []
  }
 ],
 "metadata": {
  "kernelspec": {
   "display_name": "Python 3",
   "language": "python",
   "name": "python3"
  },
  "language_info": {
   "codemirror_mode": {
    "name": "ipython",
    "version": 3
   },
   "file_extension": ".py",
   "mimetype": "text/x-python",
   "name": "python",
   "nbconvert_exporter": "python",
   "pygments_lexer": "ipython3",
   "version": "3.7.5"
  }
 },
 "nbformat": 4,
 "nbformat_minor": 2
}
