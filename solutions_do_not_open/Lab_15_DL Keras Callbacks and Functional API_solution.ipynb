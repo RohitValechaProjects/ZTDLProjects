{
 "cells": [
  {
   "cell_type": "markdown",
   "metadata": {},
   "source": [
    "# Keras Callbacks and Functional API"
   ]
  },
  {
   "cell_type": "code",
   "execution_count": null,
   "metadata": {},
   "outputs": [],
   "source": [
    "from tensorflow.keras.datasets import cifar10\n",
    "from tensorflow.keras.models import Sequential\n",
    "from tensorflow.keras.layers import Dense, Activation, Dropout\n",
    "from tensorflow.keras.optimizers import SGD, RMSprop\n",
    "from tensorflow.keras.callbacks import EarlyStopping, TensorBoard, ModelCheckpoint\n",
    "\n",
    "import numpy as np\n",
    "%matplotlib inline\n",
    "import matplotlib.pyplot as plt"
   ]
  },
  {
   "cell_type": "code",
   "execution_count": null,
   "metadata": {},
   "outputs": [],
   "source": [
    "(X_train_t, y_train), (X_test_t, y_test) = cifar10.load_data()\n",
    "\n",
    "X_train_t = X_train_t.astype('float32') / 255.\n",
    "X_test_t = X_test_t.astype('float32') / 255.\n",
    "\n",
    "X_train = X_train_t.reshape(len(X_train_t), 32*32*3)\n",
    "X_test = X_test_t.reshape(len(X_test_t), 32*32*3)"
   ]
  },
  {
   "cell_type": "code",
   "execution_count": null,
   "metadata": {},
   "outputs": [],
   "source": [
    "print(\"Training set:\")\n",
    "print(\"Tensor images shape:\\t\", X_train_t.shape)\n",
    "print(\"Flat images shape:\\t\", X_train.shape)\n",
    "print(\"Labels shape:\\t\\t\", y_train.shape)"
   ]
  },
  {
   "cell_type": "code",
   "execution_count": null,
   "metadata": {},
   "outputs": [],
   "source": [
    "plt.figure(figsize=(15, 4))\n",
    "for i in range(0, 8):\n",
    "    plt.subplot(1, 8, i+1)\n",
    "    plt.imshow(X_train[i].reshape(32, 32, 3))\n",
    "    plt.title(y_train[i, 0])"
   ]
  },
  {
   "cell_type": "markdown",
   "metadata": {},
   "source": [
    "## Callbacks on a simple model"
   ]
  },
  {
   "cell_type": "code",
   "execution_count": null,
   "metadata": {},
   "outputs": [],
   "source": [
    "outpath='/tmp/tensorboard/cifar/'\n",
    "\n",
    "early_stopper = EarlyStopping(monitor='val_accuracy', patience=10)\n",
    "tensorboard = TensorBoard(outpath, histogram_freq=1)\n",
    "checkpointer = ModelCheckpoint(outpath+'weights_epoch_{epoch:02d}_val_accuracy_{val_accuracy:.2f}.hdf5',\n",
    "                               monitor='val_acc')"
   ]
  },
  {
   "cell_type": "code",
   "execution_count": null,
   "metadata": {},
   "outputs": [],
   "source": [
    "model = Sequential([\n",
    "    Dense(1024, activation='relu', input_dim=3072),\n",
    "    Dense(512, activation='relu'),\n",
    "    Dense(10, activation='softmax')\n",
    "])\n",
    "\n",
    "model.compile(loss='sparse_categorical_crossentropy',\n",
    "              optimizer='rmsprop',\n",
    "              metrics=['accuracy'])"
   ]
  },
  {
   "cell_type": "code",
   "execution_count": null,
   "metadata": {},
   "outputs": [],
   "source": [
    "model.fit(X_train, y_train,\n",
    "          batch_size=128,\n",
    "          epochs=10,\n",
    "          verbose=1,\n",
    "          validation_split=0.1,\n",
    "          callbacks=[early_stopper,\n",
    "                     tensorboard,\n",
    "                     checkpointer])"
   ]
  },
  {
   "cell_type": "code",
   "execution_count": null,
   "metadata": {},
   "outputs": [],
   "source": [
    "import os\n",
    "sorted(os.listdir(outpath))"
   ]
  },
  {
   "cell_type": "markdown",
   "metadata": {},
   "source": [
    "Now check the tensorboard.\n",
    "\n",
    "- If using provided instance, just browse to: `http://<your-domain>/tensorboard/`\n",
    "\n",
    "- If using local, open a terminal, activate the environment and run:\n",
    "```\n",
    "tensorboard --logdir=/tmp/tensorboard/cifar/\n",
    "```\n",
    "then open a browser at `localhost:6006`\n",
    "\n",
    "You should see something like this:\n",
    "\n",
    "![tensorboard.png](../assets/tensorboard.png)\n",
    "\n",
    "If you can't access port 6006, you can use Local Tunel. Open another terminal and run [localtunnel](https://localtunnel.github.io/www/) on port 6006:\n",
    "```\n",
    "lt --port 6006\n",
    "```\n",
    "3. Go to the url provided\n",
    "\n",
    "You should see something like this.\n",
    "\n",
    "> TIP: if you get an error `lt: command not found` install localtunnel as:\n",
    "```\n",
    "sudo npm install -g localtunnel\n",
    "```"
   ]
  },
  {
   "cell_type": "markdown",
   "metadata": {},
   "source": [
    "## Exercise 1: Keras functional API\n",
    "\n",
    "We'e built a model using the `Sequential API` from tensorflow.keras. Keras also offers a [functional API](https://keras.io/getting-started/functional-api-guide/). This API is the way to go for defining complex models, such as multi-output models, directed acyclic graphs, or models with shared layers.\n",
    "\n",
    "Can you rewrite the model above using the functional API?"
   ]
  },
  {
   "cell_type": "code",
   "execution_count": null,
   "metadata": {},
   "outputs": [],
   "source": [
    "from tensorflow.keras.layers import Input\n",
    "from tensorflow.keras.models import Model"
   ]
  },
  {
   "cell_type": "code",
   "execution_count": null,
   "metadata": {
    "tags": [
     "solution",
     "empty"
    ]
   },
   "outputs": [],
   "source": [
    "inputs = Input(shape=(3072,))\n",
    "x = Dense(1024, activation='relu')(inputs)\n",
    "x = Dense(512, activation='relu')(x)\n",
    "predictions = Dense(10, activation='softmax')(x)\n",
    "\n",
    "model = Model(inputs=inputs, outputs=predictions)"
   ]
  },
  {
   "cell_type": "code",
   "execution_count": null,
   "metadata": {},
   "outputs": [],
   "source": [
    "model.compile(loss='sparse_categorical_crossentropy',\n",
    "              optimizer='rmsprop',\n",
    "              metrics=['accuracy'])\n",
    "\n",
    "model.fit(X_train, y_train,\n",
    "          batch_size=128,\n",
    "          epochs=10,\n",
    "          verbose=1,\n",
    "          validation_split=0.1)\n",
    "\n",
    "# Final test evaluation\n",
    "score = model.evaluate(X_test, y_test, verbose=0)\n",
    "print('Test loss:', score[0])\n",
    "print('Test accuracy:', score[1])"
   ]
  },
  {
   "cell_type": "markdown",
   "metadata": {},
   "source": [
    "## Exercise 2: Convolutional Model with Functional API\n",
    "\n",
    "The above model is a very simple fully connected deep neural network. As we have seen, Convolutional Neural Networks are much more powerful when dealing with images. The original data has shape:\n",
    "\n",
    "    (N_images, Height, Width, Channels)\n",
    "    \n",
    "Can you write a convolutional model using the functional API?\n",
    "\n",
    "Bonus points if you use callbacks to write data to tensorboard."
   ]
  },
  {
   "cell_type": "code",
   "execution_count": null,
   "metadata": {},
   "outputs": [],
   "source": [
    "from tensorflow.keras.layers import Dense, Dropout, Activation\n",
    "from tensorflow.keras.layers import Conv2D, MaxPool2D, AveragePooling2D, Flatten"
   ]
  },
  {
   "cell_type": "code",
   "execution_count": null,
   "metadata": {},
   "outputs": [],
   "source": [
    "outpath_conv = outpath.replace('cifar', 'cifar_conv')"
   ]
  },
  {
   "cell_type": "code",
   "execution_count": null,
   "metadata": {},
   "outputs": [],
   "source": [
    "tensorboard_conv = TensorBoard(outpath_conv, histogram_freq=1)"
   ]
  },
  {
   "cell_type": "code",
   "execution_count": null,
   "metadata": {
    "tags": [
     "solution",
     "empty"
    ]
   },
   "outputs": [],
   "source": [
    "inputs = Input(shape=(32, 32, 3))\n",
    "x = Conv2D(32, (3, 3),\n",
    "           padding='same',\n",
    "           activation='relu')(inputs)\n",
    "x = Conv2D(32, (3, 3), activation='relu')(x)\n",
    "x = MaxPool2D(pool_size=(2, 2))(x)\n",
    "\n",
    "x = Conv2D(64, (3, 3), padding='same', activation='relu')(x)\n",
    "x = Conv2D(64, (3, 3), activation='relu')(x)\n",
    "x = MaxPool2D(pool_size=(2, 2))(x)\n",
    "\n",
    "x = Flatten()(x)\n",
    "x = Dense(512, activation='relu')(x)\n",
    "predictions = Dense(10, activation='softmax')(x)\n",
    "\n",
    "model = Model(inputs=inputs, outputs=predictions)\n",
    "\n",
    "model.compile(loss='sparse_categorical_crossentropy',\n",
    "              optimizer='rmsprop',\n",
    "              metrics=['accuracy'])\n",
    "\n",
    "\n",
    "# Fit your model\n",
    "model.fit(X_train_t, y_train,\n",
    "          batch_size=32,\n",
    "          epochs=10,\n",
    "          validation_split=0.1,\n",
    "          shuffle=True,\n",
    "          verbose=1,\n",
    "          callbacks=[tensorboard_conv]\n",
    "          )\n",
    "\n",
    "# Final test evaluation\n",
    "score = model.evaluate(X_test_t, y_test, verbose=0)\n",
    "print('Test loss:', score[0])\n",
    "print('Test accuracy:', score[1])"
   ]
  },
  {
   "cell_type": "markdown",
   "metadata": {},
   "source": [
    "## Exrcise 3: Discuss with the person next to you \n",
    "\n",
    "1. What are the pros/cons of the sequential API?\n",
    "- What are the pros/cons of the functional API?\n",
    "- What are the key differences between a Fully connected and a Convolutional neural network?\n",
    "- What is a dropout layer? How does it work? Why does it help?\n"
   ]
  },
  {
   "cell_type": "code",
   "execution_count": null,
   "metadata": {},
   "outputs": [],
   "source": []
  }
 ],
 "metadata": {
  "anaconda-cloud": {},
  "kernelspec": {
   "display_name": "Python 3",
   "language": "python",
   "name": "python3"
  },
  "language_info": {
   "codemirror_mode": {
    "name": "ipython",
    "version": 3
   },
   "file_extension": ".py",
   "mimetype": "text/x-python",
   "name": "python",
   "nbconvert_exporter": "python",
   "pygments_lexer": "ipython3",
   "version": "3.7.2"
  }
 },
 "nbformat": 4,
 "nbformat_minor": 1
}
